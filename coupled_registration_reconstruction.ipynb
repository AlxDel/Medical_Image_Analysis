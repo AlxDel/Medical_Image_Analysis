{
 "cells": [
  {
   "cell_type": "markdown",
   "metadata": {},
   "source": [
    "# Medical Image Analysis project - \"Numerical Methods for Coupled Reconstruction and Registration in Digital Breast Tomosynthesis\"\n",
    "\n",
    "https://arxiv.org/pdf/1307.6008\n"
   ]
  },
  {
   "cell_type": "code",
   "execution_count": 1,
   "metadata": {},
   "outputs": [],
   "source": [
    "import numpy as np\n",
    "import matplotlib.pyplot as plt\n",
    "import scipy.ndimage"
   ]
  },
  {
   "cell_type": "markdown",
   "metadata": {},
   "source": [
    "## Generation of a 3D full torus:\n",
    "The carthesian equation of a 3D full torus of hole radius $c$ and tube radius $a$ is:\n",
    "$$ (c - \\sqrt(x^2 + y^2) )^2 + z^2 \\leq a^2 $$\n",
    "\n",
    "This can be stored in a 3D Numpy array."
   ]
  },
  {
   "cell_type": "code",
   "execution_count": 2,
   "metadata": {},
   "outputs": [],
   "source": [
    "# Discretization along axes\n",
    "d = 71\n",
    "x = np.linspace(-35, 35, d)\n",
    "y = np.linspace(-35, 35, d)\n",
    "z = np.linspace(-35, 35, d)\n",
    "\n",
    "# Grid coordinates\n",
    "xx, yy, zz = np.meshgrid(x, y, z, sparse=False)\n",
    "\n",
    "# Torus definition\n",
    "c, a = 16, 8\n",
    "torus = ( (c - np.sqrt(xx**2 + yy**2))**2 + zz**2 - a**2 <= 0).transpose(0,2,1)"
   ]
  },
  {
   "cell_type": "markdown",
   "metadata": {},
   "source": [
    "Visualization:"
   ]
  },
  {
   "cell_type": "code",
   "execution_count": 3,
   "metadata": {},
   "outputs": [
    {
     "data": {
      "image/png": "[encoded data removed]",
      "text/plain": [
       "<Figure size 864x288 with 3 Axes>"
      ]
     },
     "metadata": {},
     "output_type": "display_data"
    }
   ],
   "source": [
    "plt.figure(figsize=(12,4))\n",
    "plt.subplot(\"131\")\n",
    "plt.title(\"Coronal view\")\n",
    "plt.imshow(torus[:,d//2,:])\n",
    "plt.subplot(\"132\")\n",
    "plt.title(\"Transverse view\")\n",
    "plt.imshow(torus[d//2,:,:])\n",
    "plt.subplot(\"133\")\n",
    "plt.title(\"Sagittal view\")\n",
    "plt.imshow(torus[:,:,d//2])\n",
    "plt.show()"
   ]
  },
  {
   "cell_type": "markdown",
   "metadata": {},
   "source": [
    "**Fixed image:**"
   ]
  },
  {
   "cell_type": "code",
   "execution_count": 4,
   "metadata": {},
   "outputs": [],
   "source": [
    "f1 = torus.copy()"
   ]
  },
  {
   "cell_type": "markdown",
   "metadata": {},
   "source": [
    "**Moving image:** result of an affine transformation. Translation and rotation about the y axis of $-30$ degrees."
   ]
  },
  {
   "cell_type": "code",
   "execution_count": 9,
   "metadata": {},
   "outputs": [],
   "source": [
    "# Parameters\n",
    "angle = (-30/360)*2*np.pi\n",
    "translation = np.array([5, 0, 12])\n",
    "\n",
    "# Discretization along axes\n",
    "x = np.linspace(-35, 35, d)\n",
    "y = np.linspace(-35, 35, d)\n",
    "z = np.linspace(-35, 35, d)\n",
    "\n",
    "# Grid of coordinates\n",
    "xx, yy, zz = np.meshgrid(x, y, z, sparse=False)\n",
    "\n",
    "# Rotation (performed on the vector space instead of directly on the tore to avoid interpolation problems)\n",
    "coord = np.vstack((xx.flatten(),yy.flatten(),zz.flatten())) \n",
    "rotation = np.array([[np.cos(angle), 0, -np.sin(angle)],\n",
    "                     [0, 1, 0],\n",
    "                     [np.sin(angle), 0, np.cos(angle)]])\n",
    "new_coord = np.matmul(rotation, coord)\n",
    "\n",
    "\n",
    "# Redefinition of grid of coordinates after rotation\n",
    "xx = new_coord[0].reshape((d,d,d))\n",
    "yy = new_coord[1].reshape((d,d,d))\n",
    "zz = new_coord[2].reshape((d,d,d))\n",
    "\n",
    "\n",
    "# Rotated torus definition\n",
    "r_torus = ( (c - np.sqrt(xx**2 + yy**2))**2 + zz**2 - a**2 <= 0).transpose(0,2,1)\n",
    "\n",
    "\n",
    "# Translation\n",
    "(x, y, z) = np.where(r_torus)\n",
    "x2 = np.clip((x+translation[0]),0, d-1)\n",
    "y2 = np.clip((y+translation[1]),0, d-1)\n",
    "z2 = np.clip((z+translation[2]),0, d-1)\n",
    "f2 = np.zeros((d, d, d))\n",
    "# Moving image\n",
    "f2[x2, y2, z2] = 1"
   ]
  },
  {
   "cell_type": "code",
   "execution_count": 10,
   "metadata": {},
   "outputs": [
    {
     "data": {
      "image/png": "[encoded data removed]",
      "text/plain": [
       "<Figure size 864x288 with 3 Axes>"
      ]
     },
     "metadata": {},
     "output_type": "display_data"
    }
   ],
   "source": [
    "plt.figure(figsize=(12,4))\n",
    "plt.subplot(\"131\")\n",
    "plt.title(\"Coronal view\")\n",
    "plt.imshow(f2[:,d//2,:])\n",
    "plt.subplot(\"132\")\n",
    "plt.title(\"Transverse view\")\n",
    "plt.imshow(f2[d//2,:,:])\n",
    "plt.subplot(\"133\")\n",
    "plt.title(\"Sagittal view\")\n",
    "plt.imshow(f2[:,:,d//2])\n",
    "plt.show()"
   ]
  },
  {
   "cell_type": "code",
   "execution_count": null,
   "metadata": {},
   "outputs": [],
   "source": []
  }
 ],
 "metadata": {
  "kernelspec": {
   "display_name": "Python 3",
   "language": "python",
   "name": "python3"
  },
  "language_info": {
   "codemirror_mode": {
    "name": "ipython",
    "version": 3
   },
   "file_extension": ".py",
   "mimetype": "text/x-python",
   "name": "python",
   "nbconvert_exporter": "python",
   "pygments_lexer": "ipython3",
   "version": "3.6.5"
  }
 },
 "nbformat": 4,
 "nbformat_minor": 2
}
